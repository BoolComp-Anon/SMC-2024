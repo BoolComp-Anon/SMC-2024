{
  "nbformat": 4,
  "nbformat_minor": 0,
  "metadata": {
    "colab": {
      "name": "32BitsModels.ipynb",
      "provenance": [],
      "collapsed_sections": [
        "TTb0lA-mcwLl",
        "VQ7IE0uYl1Ow",
        "geh3HVEcbGOK"
      ]
    },
    "kernelspec": {
      "display_name": "Python 3",
      "name": "python3"
    },
    "language_info": {
      "name": "python"
    }
  },
  "cells": [
    {
      "cell_type": "code",
      "metadata": {
        "id": "5AWvjndluGeV"
      },
      "source": [
        "import pandas as pd\n",
        "import numpy as np\n",
        "from sklearn.model_selection import train_test_split\n",
        "from sklearn.metrics import f1_score\n",
        "from sklearn.metrics import accuracy_score\n",
        "from sklearn.tree import DecisionTreeClassifier\n",
        "from joblib import dump, load"
      ],
      "execution_count": 1,
      "outputs": []
    },
    {
      "cell_type": "code",
      "metadata": {
        "id": "SYRCk8RkNrks",
        "colab": {
          "base_uri": "https://localhost:8080/"
        },
        "outputId": "04383f9e-fbdd-48ef-c2ee-2f241a4cd4cc"
      },
      "source": [
        "from google.colab import drive\n",
        "from IPython.display import clear_output\n",
        "drive.mount('/content/drive')"
      ],
      "execution_count": 2,
      "outputs": [
        {
          "output_type": "stream",
          "name": "stdout",
          "text": [
            "Mounted at /content/drive\n"
          ]
        }
      ]
    },
    {
      "cell_type": "code",
      "metadata": {
        "id": "Y0TibRvfTjyv"
      },
      "source": [
        "df = pd.read_csv(\"/content/drive/MyDrive/32bitdata/bitsDataset.csv\")"
      ],
      "execution_count": 3,
      "outputs": []
    },
    {
      "cell_type": "code",
      "metadata": {
        "id": "0PLHe-OYT60L"
      },
      "source": [
        "bitsCols = []\n",
        "for i in range(31,-1,-1):\n",
        "  bitsCols.append('Bit {}'.format(i))\n",
        "X = df.loc[:, bitsCols]\n",
        "Y = df.loc[:, 'Class']"
      ],
      "execution_count": 4,
      "outputs": []
    },
    {
      "cell_type": "code",
      "metadata": {
        "id": "vHAGYuzsTzwE"
      },
      "source": [
        "from sklearn.model_selection import train_test_split\n",
        "from sklearn.neural_network import MLPClassifier\n",
        "from sklearn.metrics import f1_score\n",
        "import numpy as np\n",
        "\n",
        "#15% train 85% test\n",
        "X_train, X_test, y_train, y_test = train_test_split(X, Y, test_size=0.85, random_state=0)\n",
        "\n",
        "#We initialize data structures and the regularization parameter.\n",
        "regul_param = 10.0 ** -2\n",
        "\n",
        "train_scores = []\n",
        "test_scores = []\n",
        "clasificadores = []\n",
        "clf_nom = []\n",
        "clf_top = []\n"
      ],
      "execution_count": 5,
      "outputs": []
    },
    {
      "cell_type": "markdown",
      "metadata": {
        "id": "TTb0lA-mcwLl"
      },
      "source": [
        "# **In case you want to train the models**"
      ]
    },
    {
      "cell_type": "markdown",
      "metadata": {
        "id": "LUmwER3owRXh"
      },
      "source": [
        "## **Initial 200 neuron models**"
      ]
    },
    {
      "cell_type": "code",
      "metadata": {
        "id": "ZONF9nYj0Pb9"
      },
      "source": [
        "clf200=MLPClassifier(hidden_layer_sizes=(200, ), activation='relu', solver='adam', alpha=regul_param, batch_size='auto',\n",
        "                   learning_rate='constant', learning_rate_init=0.001, max_iter=200,verbose= True, random_state = 333).fit(X_train, y_train.ravel())\n",
        "clear_output()\n",
        "clasificadores.append(clf200)\n",
        "clf_nom.append('clf200')\n",
        "clf_top.append('200')"
      ],
      "execution_count": null,
      "outputs": []
    },
    {
      "cell_type": "code",
      "metadata": {
        "id": "93oIfdvY0TLu"
      },
      "source": [
        "clf155=MLPClassifier(hidden_layer_sizes=(100,50,50, ), activation='relu', solver='adam', alpha=regul_param, batch_size='auto',\n",
        "                   learning_rate='constant', learning_rate_init=0.001, max_iter=200,verbose= True, random_state = 333).fit(X_train, y_train.ravel())\n",
        "clear_output()\n",
        "clasificadores.append(clf155)\n",
        "clf_nom.append('clf155')\n",
        "clf_top.append('100,50,50')"
      ],
      "execution_count": null,
      "outputs": []
    },
    {
      "cell_type": "markdown",
      "metadata": {
        "id": "SKnTiHEz0Xpb"
      },
      "source": [
        "## **Different 100 neuron topologies**"
      ]
    },
    {
      "cell_type": "code",
      "metadata": {
        "id": "b0AkCcf41OLq"
      },
      "source": [
        "clf100=MLPClassifier(hidden_layer_sizes=(100, ), activation='relu', solver='adam', alpha=regul_param, batch_size='auto', \n",
        "                    learning_rate='constant', learning_rate_init=0.001, max_iter=200,verbose= True, random_state = 333).fit(X_train, y_train.ravel())\n",
        "clear_output()\n",
        "clasificadores.append(clf100)\n",
        "clf_nom.append('clf100')\n",
        "clf_top.append('100')"
      ],
      "execution_count": null,
      "outputs": []
    },
    {
      "cell_type": "code",
      "metadata": {
        "id": "rS7I80OB1fuv"
      },
      "source": [
        "clf80=MLPClassifier(hidden_layer_sizes=(80,15,5, ), activation='relu', solver='adam', alpha=regul_param, batch_size='auto', \n",
        "                    learning_rate='constant', learning_rate_init=0.001, max_iter=200,verbose= True, random_state = 333).fit(X_train, y_train.ravel())\n",
        "clear_output()\n",
        "clasificadores.append(clf80)\n",
        "clf_nom.append('clf80')\n",
        "clf_top.append('80,15,5')"
      ],
      "execution_count": null,
      "outputs": []
    },
    {
      "cell_type": "code",
      "metadata": {
        "id": "8ORjU2tj1gHx"
      },
      "source": [
        "clf70=MLPClassifier(hidden_layer_sizes=(70,25,5, ), activation='relu', solver='adam', alpha=regul_param, batch_size='auto',\n",
        "                    learning_rate='constant', learning_rate_init=0.001, max_iter=200,verbose= True, random_state = 333).fit(X_train, y_train.ravel())\n",
        "clear_output()\n",
        "clasificadores.append(clf70)\n",
        "clf_nom.append('clf70')\n",
        "clf_top.append('70,25,5')"
      ],
      "execution_count": null,
      "outputs": []
    },
    {
      "cell_type": "code",
      "metadata": {
        "id": "Joqvpr6E1gd-"
      },
      "source": [
        "clf5050=MLPClassifier(hidden_layer_sizes=(50,50, ), activation='relu', solver='adam', alpha=regul_param, batch_size='auto',\n",
        "                      learning_rate='constant', learning_rate_init=0.001, max_iter=200,verbose= True, random_state = 333).fit(X_train, y_train.ravel())\n",
        "clear_output()\n",
        "clasificadores.append(clf5050)\n",
        "clf_nom.append('clf5050')\n",
        "clf_top.append('50,50')"
      ],
      "execution_count": null,
      "outputs": []
    },
    {
      "cell_type": "code",
      "metadata": {
        "id": "TXSgaEKp1mCc"
      },
      "source": [
        "clf5025=MLPClassifier(hidden_layer_sizes=(50,25,25, ), activation='relu', solver='adam', alpha=regul_param, batch_size='auto',\n",
        "                      learning_rate='constant', learning_rate_init=0.001, max_iter=200,verbose= True, random_state = 333).fit(X_train, y_train.ravel())\n",
        "clear_output()\n",
        "clasificadores.append(clf5025)\n",
        "clf_nom.append('clf5025')\n",
        "clf_top.append('50,25,25')"
      ],
      "execution_count": null,
      "outputs": []
    },
    {
      "cell_type": "code",
      "metadata": {
        "id": "f7N5G6VTEhk4"
      },
      "source": [
        "clf5030=MLPClassifier(hidden_layer_sizes=(50,30,10,10, ), activation='relu', solver='adam', alpha=regul_param, batch_size='auto',\n",
        "                      learning_rate='constant', learning_rate_init=0.001, max_iter=200,verbose= True, random_state = 333).fit(X_train, y_train.ravel())\n",
        "clear_output()\n",
        "clasificadores.append(clf5030)\n",
        "clf_nom.append('clf5030')\n",
        "clf_top.append('50,30,10,10')"
      ],
      "execution_count": null,
      "outputs": []
    },
    {
      "cell_type": "markdown",
      "metadata": {
        "id": "NPPYwP8zaV6L"
      },
      "source": [
        "## **Refined 200 neuron topology**"
      ]
    },
    {
      "cell_type": "code",
      "metadata": {
        "id": "miIcbUFLaKoW"
      },
      "source": [
        "from sklearn.neural_network import MLPClassifier\n",
        "from sklearn.metrics import f1_score\n",
        "import numpy as np\n",
        "\n",
        "\n",
        "regul_param = 10.0 ** -2\n",
        "\n",
        "MLP=MLPClassifier(hidden_layer_sizes=(160,25,10,5, ), activation='relu', solver='adam', alpha=regul_param, batch_size='auto', \n",
        "             learning_rate='constant', learning_rate_init=0.001, max_iter=500,verbose= True, random_state = 333).fit(X_train, y_train.ravel())\n",
        "clear_output()\n",
        "clasificadores.append(MLP)\n",
        "clf_nom.append('MLP')\n",
        "clf_top.append('160,25,10,5')"
      ],
      "execution_count": null,
      "outputs": []
    },
    {
      "cell_type": "markdown",
      "metadata": {
        "id": "FpPc4YmxevMI"
      },
      "source": [
        "## **To save weights and biases**"
      ]
    },
    {
      "cell_type": "code",
      "metadata": {
        "id": "MsmEoeGDe_rl",
        "colab": {
          "base_uri": "https://localhost:8080/"
        },
        "outputId": "c84c82f0-49a2-4bdb-c6cd-e7ff606813e7"
      },
      "source": [
        "#We check that we have the trained models\n",
        "print(len(clasificadores))\n",
        "print(len(clf_nom), ' ', clf_nom)\n",
        "print(len(clf_top), ' ', clf_top)\n",
        "print(len(train_scores), ' ', train_scores)\n",
        "print(len(test_scores), ' ', test_scores)"
      ],
      "execution_count": 18,
      "outputs": [
        {
          "output_type": "stream",
          "name": "stdout",
          "text": [
            "9\n",
            "9   ['clf200', 'clf155', 'clf100', 'clf80', 'clf70', 'clf5050', 'clf5025', 'clf5030', 'MLP']\n",
            "9   ['200', '100,50,50', '100', '80,15,5', '70,25,5', '50,50', '50,25,25', '50,30,10,10', '160,25,10,5']\n",
            "9   [0.9833149081450171, 0.9888782311819216, 0.9763615672248415, 0.9830840513737603, 0.9829279791903756, 0.9768216550154446, 0.9761063241749309, 0.9787042757275239, 0.9895626727361405]\n",
            "9   [0.9817246428702582, 0.98507818524843, 0.9754384364327421, 0.9813416349932063, 0.9810223183136866, 0.9754688475450773, 0.974817590705446, 0.9772510534868348, 0.9864550053248136]\n"
          ]
        }
      ]
    },
    {
      "cell_type": "code",
      "metadata": {
        "id": "S7gnio9JfvS_"
      },
      "source": [
        "#We save the data to .joblib files\n",
        "for i in range(len(clasificadores)):\n",
        "  filename= clf_nom[i] + '.joblib'\n",
        "  dump(clasificadores[i],filename)"
      ],
      "execution_count": null,
      "outputs": []
    },
    {
      "cell_type": "markdown",
      "metadata": {
        "id": "CziD0N7PeIF5"
      },
      "source": [
        "# **In case you want to import weights and biases from pre-trained models**"
      ]
    },
    {
      "cell_type": "code",
      "metadata": {
        "id": "7FNfbbcJeRAr"
      },
      "source": [
        "clf200= load(\"/content/drive/MyDrive/32bitdata/clf200.joblib\")\n",
        "clasificadores.append(clf200)\n",
        "clf_nom.append('clf200')\n",
        "clf_top.append('200')\n"
      ],
      "execution_count": 6,
      "outputs": []
    },
    {
      "cell_type": "code",
      "metadata": {
        "id": "MuJ_lx_7joZn"
      },
      "source": [
        "clf155= load(\"/content/drive/MyDrive/32bitdata/clf155.joblib\")\n",
        "clasificadores.append(clf155)\n",
        "clf_nom.append('clf155')\n",
        "clf_top.append('100,50,50')"
      ],
      "execution_count": 7,
      "outputs": []
    },
    {
      "cell_type": "code",
      "metadata": {
        "id": "ZzP-6n9Tjolg"
      },
      "source": [
        "clf100= load(\"/content/drive/MyDrive/32bitdata/clf100.joblib\")\n",
        "clasificadores.append(clf100)\n",
        "clf_nom.append('clf100')\n",
        "clf_top.append('100')"
      ],
      "execution_count": 8,
      "outputs": []
    },
    {
      "cell_type": "code",
      "metadata": {
        "id": "fExudE35jotc"
      },
      "source": [
        "clf80= load(\"/content/drive/MyDrive/32bitdata/clf80.joblib\")\n",
        "clasificadores.append(clf80)\n",
        "clf_nom.append('clf80')\n",
        "clf_top.append('80,15,5')"
      ],
      "execution_count": 9,
      "outputs": []
    },
    {
      "cell_type": "code",
      "metadata": {
        "id": "BAPYFaP7joxk"
      },
      "source": [
        "clf70= load(\"/content/drive/MyDrive/32bitdata/clf70.joblib\")\n",
        "clasificadores.append(clf70)\n",
        "clf_nom.append('clf70')\n",
        "clf_top.append('70,25,5')"
      ],
      "execution_count": 10,
      "outputs": []
    },
    {
      "cell_type": "code",
      "metadata": {
        "id": "rVKEqCM7jo1R"
      },
      "source": [
        "clf5050= load(\"/content/drive/MyDrive/32bitdata/clf5050.joblib\")\n",
        "clasificadores.append(clf5050)\n",
        "clf_nom.append('clf5050')\n",
        "clf_top.append('50,50')"
      ],
      "execution_count": 11,
      "outputs": []
    },
    {
      "cell_type": "code",
      "metadata": {
        "id": "4r-F-n2sjo_b"
      },
      "source": [
        "clf5025= load(\"/content/drive/MyDrive/32bitdata/clf5025.joblib\")\n",
        "clasificadores.append(clf5025)\n",
        "clf_nom.append('clf5025')\n",
        "clf_top.append('50,25,25')"
      ],
      "execution_count": 12,
      "outputs": []
    },
    {
      "cell_type": "code",
      "metadata": {
        "id": "-MTkjI7XjpK-"
      },
      "source": [
        "clf5030= load(\"/content/drive/MyDrive/32bitdata/clf5030.joblib\")\n",
        "clasificadores.append(clf5030)\n",
        "clf_nom.append('clf5030')\n",
        "clf_top.append('50,30,10,10')"
      ],
      "execution_count": 13,
      "outputs": []
    },
    {
      "cell_type": "code",
      "metadata": {
        "id": "M0PXAnL5kzEk"
      },
      "source": [
        "MLP= load(\"/content/drive/MyDrive/32bitdata/MLP.joblib\")\n",
        "clasificadores.append(MLP)\n",
        "clf_nom.append('MLP')\n",
        "clf_top.append('160,25,10,5')"
      ],
      "execution_count": 14,
      "outputs": []
    },
    {
      "cell_type": "markdown",
      "metadata": {
        "id": "NES7TWRrlLDM"
      },
      "source": [
        "# **Computing train and test accuracies**"
      ]
    },
    {
      "cell_type": "code",
      "metadata": {
        "id": "fqCPZgtu17Z6",
        "colab": {
          "base_uri": "https://localhost:8080/"
        },
        "outputId": "7dbf5534-ceb5-4b85-a7bb-a5c867f535b2"
      },
      "source": [
        "for i in range(len(clasificadores)):\n",
        "  print('Topology ',clf_top[i],':')\n",
        "  y_train_pred= clasificadores[i].predict(X_train)\n",
        "  y_test_pred = clasificadores[i].predict(X_test)\n",
        "  f_train = f1_score(y_train, y_train_pred, average='micro')\n",
        "  print(' Train: ', f_train)\n",
        "  f_test = f1_score(y_test, y_test_pred, average='micro')\n",
        "  print(' Test: ', f_test)\n",
        "  train_scores.append(f_train)\n",
        "  test_scores.append(f_test)\n",
        "  print('')"
      ],
      "execution_count": 16,
      "outputs": [
        {
          "output_type": "stream",
          "name": "stdout",
          "text": [
            "Topology  200 :\n",
            " Train:  0.9833149081450171\n",
            " Test:  0.9817246428702582\n",
            "\n",
            "Topology  100,50,50 :\n",
            " Train:  0.9888782311819216\n",
            " Test:  0.98507818524843\n",
            "\n",
            "Topology  100 :\n",
            " Train:  0.9763615672248415\n",
            " Test:  0.9754384364327421\n",
            "\n",
            "Topology  80,15,5 :\n",
            " Train:  0.9830840513737603\n",
            " Test:  0.9813416349932063\n",
            "\n",
            "Topology  70,25,5 :\n",
            " Train:  0.9829279791903756\n",
            " Test:  0.9810223183136866\n",
            "\n",
            "Topology  50,50 :\n",
            " Train:  0.9768216550154446\n",
            " Test:  0.9754688475450773\n",
            "\n",
            "Topology  50,25,25 :\n",
            " Train:  0.9761063241749309\n",
            " Test:  0.974817590705446\n",
            "\n",
            "Topology  50,30,10,10 :\n",
            " Train:  0.9787042757275239\n",
            " Test:  0.9772510534868348\n",
            "\n",
            "Topology  160,25,10,5 :\n",
            " Train:  0.9895626727361405\n",
            " Test:  0.9864550053248136\n",
            "\n"
          ]
        }
      ]
    },
    {
      "cell_type": "code",
      "metadata": {
        "colab": {
          "base_uri": "https://localhost:8080/"
        },
        "id": "AaK98kqBWtw6",
        "outputId": "140ea2a3-b5df-4406-fd81-3e9c765dc122"
      },
      "source": [
        "#We check that we have the trained models\n",
        "print(len(clasificadores))\n",
        "print(len(clf_nom), ' ', clf_nom)\n",
        "print(len(clf_top), ' ', clf_top)\n",
        "print(len(train_scores), ' ', train_scores)\n",
        "print(len(test_scores), ' ', test_scores)\n"
      ],
      "execution_count": 17,
      "outputs": [
        {
          "output_type": "stream",
          "name": "stdout",
          "text": [
            "9\n",
            "9   ['clf200', 'clf155', 'clf100', 'clf80', 'clf70', 'clf5050', 'clf5025', 'clf5030', 'MLP']\n",
            "9   ['200', '100,50,50', '100', '80,15,5', '70,25,5', '50,50', '50,25,25', '50,30,10,10', '160,25,10,5']\n",
            "9   [0.9833149081450171, 0.9888782311819216, 0.9763615672248415, 0.9830840513737603, 0.9829279791903756, 0.9768216550154446, 0.9761063241749309, 0.9787042757275239, 0.9895626727361405]\n",
            "9   [0.9817246428702582, 0.98507818524843, 0.9754384364327421, 0.9813416349932063, 0.9810223183136866, 0.9754688475450773, 0.974817590705446, 0.9772510534868348, 0.9864550053248136]\n"
          ]
        }
      ]
    },
    {
      "cell_type": "code",
      "metadata": {
        "colab": {
          "base_uri": "https://localhost:8080/",
          "height": 537
        },
        "id": "hl_QuPmFWlB6",
        "outputId": "01c911fe-136b-4aef-dd3d-6c5778216d0a"
      },
      "source": [
        "#pltdf = pd.DataFrame({'Train': train_scores,'Test': test_scores}, index=clf_top)\n",
        "pltdf = pd.DataFrame({'Train': train_scores,'Test': test_scores}, index=clf_nom)\n",
        "\n",
        "sup = 1.005*max(max(train_scores),max(test_scores))\n",
        "inf = 0.995*min(min(train_scores),min(test_scores))\n",
        "ax = pltdf.plot.bar(rot=0,figsize=(16,9),ylim=[inf,sup])"
      ],
      "execution_count": 19,
      "outputs": [
        {
          "output_type": "display_data",
          "data": {
            "image/png": "[encoded data removed]",
            "text/plain": [
              "<Figure size 1152x648 with 1 Axes>"
            ]
          },
          "metadata": {
            "needs_background": "light"
          }
        }
      ]
    },
    {
      "cell_type": "markdown",
      "metadata": {
        "id": "VQ7IE0uYl1Ow"
      },
      "source": [
        "## **To obtain more deatails of an specific classifier**"
      ]
    },
    {
      "cell_type": "code",
      "metadata": {
        "colab": {
          "base_uri": "https://localhost:8080/"
        },
        "id": "rglOV2ElatXZ",
        "outputId": "3634bb10-9e05-4bd9-dbfc-c46295c49912"
      },
      "source": [
        "from sklearn.metrics import classification_report\n",
        "classifier = MLP\n",
        "y_test_pred = classifier.predict(X_test)\n",
        "print(classification_report(y_test, y_test_pred, digits= 4))"
      ],
      "execution_count": 20,
      "outputs": [
        {
          "output_type": "stream",
          "name": "stdout",
          "text": [
            "                precision    recall  f1-score   support\n",
            "\n",
            "Complementario     0.9861    0.9868    0.9865   1742986\n",
            "       Dataset     0.9868    0.9861    0.9864   1742582\n",
            "\n",
            "      accuracy                         0.9865   3485568\n",
            "     macro avg     0.9865    0.9865    0.9865   3485568\n",
            "  weighted avg     0.9865    0.9865    0.9865   3485568\n",
            "\n"
          ]
        }
      ]
    },
    {
      "cell_type": "code",
      "metadata": {
        "id": "4PIpao_ua62h"
      },
      "source": [
        "# Funtion imported from\n",
        "# https://scikit-learn.org/stable/auto_examples/model_selection/plot_confusion_matrix.html\n",
        "\n",
        "from sklearn.metrics import confusion_matrix\n",
        "from sklearn.utils.multiclass import unique_labels\n",
        "import matplotlib.pyplot as plt\n",
        "\n",
        "def plot_confusion_matrix(y_true, y_pred,\n",
        "                          normalize=False,\n",
        "                          title=None,\n",
        "                          cmap=plt.cm.Blues):\n",
        "    \"\"\"\n",
        "    This function prints and plots the confusion matrix.\n",
        "    Normalization can be applied by setting `normalize=True`.\n",
        "    \"\"\"\n",
        "    if not title:\n",
        "        if normalize:\n",
        "            title = 'Normalized confusion matrix'\n",
        "        else:\n",
        "            title = 'Confusion matrix'\n",
        "\n",
        "    # Compute confusion matrix\n",
        "    cm = confusion_matrix(y_true, y_pred)\n",
        "    # Only use the labels that appear in the data\n",
        "    classes = unique_labels(y_true, y_pred)\n",
        "    if normalize:\n",
        "        cm = cm.astype('float') / cm.sum(axis=1)[:, np.newaxis]\n",
        "        print(\"Normalized confusion matrix\")\n",
        "    else:\n",
        "        print('Confusion matrix')\n",
        "\n",
        "    print(cm)\n",
        "\n",
        "    fig, ax = plt.subplots()\n",
        "    im = ax.imshow(cm, interpolation='nearest', cmap=cmap)\n",
        "    ax.figure.colorbar(im, ax=ax)\n",
        "    # We want to show all ticks...\n",
        "    ax.set(xticks=np.arange(cm.shape[1]),\n",
        "           yticks=np.arange(cm.shape[0]),\n",
        "           # ... and label them with the respective list entries\n",
        "           xticklabels=classes, yticklabels=classes,\n",
        "           title=title,\n",
        "           ylabel='Actual Label',\n",
        "           xlabel='Predicted Label')\n",
        "\n",
        "    # Rotate the tick labels and set their alignment.\n",
        "    plt.setp(ax.get_xticklabels(), rotation=45, ha=\"right\",\n",
        "             rotation_mode=\"anchor\")\n",
        "\n",
        "    # Loop over data dimensions and create text annotations.\n",
        "    fmt = '.4f' if normalize else 'd'\n",
        "    thresh = cm.max() / 2.\n",
        "    for i in range(cm.shape[0]):\n",
        "        for j in range(cm.shape[1]):\n",
        "            ax.text(j, i, format(cm[i, j], fmt),\n",
        "                    ha=\"center\", va=\"center\",\n",
        "                    color=\"white\" if cm[i, j] > thresh else \"black\")\n",
        "    fig.tight_layout()\n",
        "    if normalize:\n",
        "        title+= ' (normalized)'\n",
        "    plt.savefig(title+'.pdf')\n",
        "    return ax\n"
      ],
      "execution_count": 21,
      "outputs": []
    },
    {
      "cell_type": "code",
      "metadata": {
        "colab": {
          "base_uri": "https://localhost:8080/",
          "height": 696
        },
        "id": "ZTAQch3ba9yq",
        "outputId": "24d0c702-b4a0-40a3-db1b-dba4d1f350dd"
      },
      "source": [
        "plot_confusion_matrix(y_test, y_test_pred, normalize = False, title='Model')\n",
        "plot_confusion_matrix(y_test, y_test_pred, normalize = True, title='Model')"
      ],
      "execution_count": 22,
      "outputs": [
        {
          "output_type": "stream",
          "name": "stdout",
          "text": [
            "Confusion matrix\n",
            "[[1719958   23028]\n",
            " [  24184 1718398]]\n",
            "Normalized confusion matrix\n",
            "[[0.98678819 0.01321181]\n",
            " [0.01387826 0.98612174]]\n"
          ]
        },
        {
          "output_type": "execute_result",
          "data": {
            "text/plain": [
              "<matplotlib.axes._subplots.AxesSubplot at 0x7f3f7805a7d0>"
            ]
          },
          "metadata": {},
          "execution_count": 22
        },
        {
          "output_type": "display_data",
          "data": {
            "image/png": "[encoded data removed]",
            "text/plain": [
              "<Figure size 432x288 with 2 Axes>"
            ]
          },
          "metadata": {
            "needs_background": "light"
          }
        },
        {
          "output_type": "display_data",
          "data": {
            "image/png": "[encoded data removed]",
            "text/plain": [
              "<Figure size 432x288 with 2 Axes>"
            ]
          },
          "metadata": {
            "needs_background": "light"
          }
        }
      ]
    },
    {
      "cell_type": "markdown",
      "metadata": {
        "id": "geh3HVEcbGOK"
      },
      "source": [
        "# **r-Weight computation of the 100 neuron, single-layer MLP**\n",
        "\n",
        "To compute first layer r-weights in the single-layer MLP we compute each neuron's weight matrix by the neuron's weight for the output neuron's lineal combination.\n",
        "\n",
        "For a rough first visualization, we arrange the r-weights as a 8x4 matrix in descending order."
      ]
    },
    {
      "cell_type": "code",
      "metadata": {
        "colab": {
          "base_uri": "https://localhost:8080/",
          "height": 1000
        },
        "id": "sqT-_KNW0zvi",
        "outputId": "2621ad54-4f56-4cd1-9b95-edec7ed905c5"
      },
      "source": [
        "np.set_printoptions(precision=2,suppress=True)\n",
        "for i in range(100):\n",
        "  v = clf100.coefs_[0].T[i] * clf100.coefs_[1][i]\n",
        "  v = v.reshape(4,8)\n",
        "  print(v)\n",
        "  print()\n",
        "\n",
        "clf100.coefs_[0].shape\n",
        "\n",
        "'''   Input bit leyend\n",
        "      ____________________________________________________________\n",
        "      |              1             |||              0            |<--b2\n",
        "      |-------------++-------------+++------+------++------+-----|\n",
        "      |      1      ||      0      |||      1      ||      0     |<--b1\n",
        "______|-------------++-------------+++------+------++------+-----|\n",
        "|b4|b5|   1  |   0  ||  1   |   0  |||   1  |   0  ||  1   |  0  |<--b0\n",
        "|--+--+------+------++-------------+++-------------++------+-----|\n",
        "|1 |  |-0.04 | 0.05 || 0.04 |-0.03 |||-1.16 | 1.17 || 1.15 |-1.14|\n",
        "|--+ 1+------+------++-------------+++-------------++------+-----|\n",
        "|0 |  |-0.09 | 0.07 || 0.07 |-0.1  ||| 1.03 |-0.99 ||-1.04 | 1.01|\n",
        "|--+--+------+------++-------------+++-------------++------+-----|\n",
        "|--+--+------+------++-------------+++-------------++------+-----|\n",
        "|1 |  |-0.   | 0.04 || 0.   |-0.03 ||| 0.   | 0.03 || 0.03 |-0.01|\n",
        "|--+ 0+------+------++-------------+++-------------++------+-----|\n",
        "|0 |  |-0.01 |-0.   || 0.02 | 0.02 ||| 0.   |-0.01 ||-0.01 |-0.03|\n",
        "|----------------------------------------------------------------|\n",
        "\n",
        "Output\n",
        "[[-0.04  0.05  0.04 -0.03 -1.16  1.17  1.15 -1.14]\n",
        " [-0.09  0.07  0.07 -0.1   1.03 -0.99 -1.04  1.01]\n",
        " [-0.    0.04  0.   -0.03  0.    0.03  0.03 -0.01]\n",
        " [-0.01 -0.    0.02  0.02  0.   -0.01 -0.01 -0.03]]\n",
        "\n",
        " '''\n",
        "\n"
      ],
      "execution_count": 23,
      "outputs": [
        {
          "output_type": "stream",
          "name": "stdout",
          "text": [
            "[[-0.04  0.05  0.04 -0.03 -1.16  1.17  1.15 -1.14]\n",
            " [-0.09  0.07  0.07 -0.1   1.03 -0.99 -1.04  1.01]\n",
            " [-0.    0.04  0.   -0.03  0.    0.03  0.03 -0.01]\n",
            " [-0.01 -0.    0.02  0.02  0.   -0.01 -0.01 -0.03]]\n",
            "\n",
            "[[ 0.99  1.   -1.01 -1.   -1.04 -1.    1.02  1.03]\n",
            " [-1.28 -1.26  1.29  1.3   1.31  1.28 -1.32 -1.32]\n",
            " [-0.02  0.   -0.04 -0.03  0.01 -0.01  0.03  0.  ]\n",
            " [ 0.01  0.02  0.01  0.02  0.01 -0.   -0.01  0.  ]]\n",
            "\n",
            "[[-0.99  0.77  0.72 -1.03  0.4  -0.76 -0.71  0.73]\n",
            " [ 0.78 -1.01 -1.22  1.19 -0.91  0.62  0.95 -1.35]\n",
            " [-0.09 -0.14 -0.13 -0.07 -0.15 -0.14 -0.49  0.33]\n",
            " [-0.03 -0.15 -0.05 -0.4  -0.06  0.34  0.12 -0.58]]\n",
            "\n",
            "[[-0.85 -0.02  0.85 -0.01  0.86  0.01 -0.88 -0.  ]\n",
            " [ 0.89 -0.   -0.86 -0.01 -0.85 -0.    0.86  0.01]\n",
            " [ 1.06 -0.01 -1.04 -0.04 -1.05  0.03  1.1   0.01]\n",
            " [-1.05  0.01  1.05 -0.01  1.06  0.02 -1.04  0.03]]\n",
            "\n",
            "[[-0.1   0.92 -0.12  0.97  0.14 -0.99  0.12 -0.98]\n",
            " [-0.13  0.9  -0.11  0.95  0.11 -0.97  0.12 -0.93]\n",
            " [ 0.12 -1.19  0.08 -1.19 -0.09  1.2  -0.1   1.21]\n",
            " [ 0.08 -1.15  0.1  -1.17 -0.07  1.19 -0.06  1.16]]\n",
            "\n",
            "[[-0.1  -0.11 -0.14 -0.11  0.04 -0.17  0.03 -0.19]\n",
            " [-0.12  0.23 -0.07 -0.4   0.01  1.07 -0.13  0.71]\n",
            " [-0.11  0.04 -0.06 -0.06 -0.02  0.08  0.05 -0.1 ]\n",
            " [ 0.12  0.77 -0.13  0.5   0.05 -2.93 -0.15  1.31]]\n",
            "\n",
            "[[ 0.03  0.03 -0.05  0.03  0.03 -0.01 -0.02 -0.02]\n",
            " [ 0.01  0.07  0.01  0.03 -0.    0.07  0.04  0.03]\n",
            " [ 0.02  0.05  0.04  0.02  0.01 -0.02  0.   -0.01]\n",
            " [ 1.75  1.73 -1.61 -1.6  -0.58 -0.58  0.48  0.5 ]]\n",
            "\n",
            "[[ 0.19  0.02 -0.07 -0.12 -0.03  0.02  0.16  0.1 ]\n",
            " [-0.02 -0.02  0.09  0.02 -0.03 -0.08  0.11 -0.28]\n",
            " [-0.11  0.18  0.29 -0.12  0.02 -0.03 -1.5   1.31]\n",
            " [ 0.11 -0.12 -0.12 -0.01 -0.13  0.25  1.47  1.06]]\n",
            "\n",
            "[[ 0.03 -0.53  0.44  0.14 -0.02  0.   -0.26 -0.06]\n",
            " [ 0.13  0.59 -0.43 -0.18 -0.12 -0.1   0.21 -0.14]\n",
            " [-0.6  -0.01 -0.01  0.14 -0.3   0.2   0.51  0.41]\n",
            " [ 0.3  -0.07 -0.27 -0.12  0.02 -0.06  0.12 -0.35]]\n",
            "\n",
            "[[-0.02 -0.01 -0.04  0.03  1.07 -1.09 -0.82  0.84]\n",
            " [-0.01 -0.02 -0.03  0.02  1.08 -1.07 -0.82  0.81]\n",
            " [-0.01  0.   -0.01  0.01  1.08 -1.07 -0.81  0.82]\n",
            " [ 0.    0.02 -0.   -0.01  1.07 -1.05 -0.81  0.79]]\n",
            "\n",
            "[[ 0.66 -0.66  0.67 -0.69 -0.76  0.76 -0.76  0.77]\n",
            " [-0.64  0.64 -0.65  0.65  0.75 -0.73  0.75 -0.76]\n",
            " [ 0.    0.    0.01  0.02  0.    0.01  0.02  0.02]\n",
            " [ 0.01 -0.02 -0.02  0.    0.01 -0.02  0.01 -0.01]]\n",
            "\n",
            "[[ 1.31  0.03  1.32  0.01 -1.36  0.02 -1.33 -0.01]\n",
            " [-0.18 -0.   -0.09  0.02  0.08 -0.03  0.14 -0.03]\n",
            " [-1.85  0.08 -1.84  0.12  1.88 -0.11  1.85 -0.1 ]\n",
            " [-0.04 -0.01 -0.03 -0.01  0.09 -0.    0.08 -0.03]]\n",
            "\n",
            "[[ 0.01 -0.45 -0.21  0.27  0.44  0.28 -0.15 -0.08]\n",
            " [-0.25  0.14  0.34 -0.36 -0.33  0.17 -0.07 -0.16]\n",
            " [ 0.33  0.78  0.04 -0.01 -0.74  0.77 -0.09 -0.25]\n",
            " [ 0.18 -0.56 -0.12 -0.07  0.06  0.2   0.07  0.4 ]]\n",
            "\n",
            "[[ 0.66  0.67 -0.74 -0.74  0.67  0.69 -0.74 -0.74]\n",
            " [ 0.67  0.67 -0.73 -0.75  0.7   0.69 -0.74 -0.76]\n",
            " [-0.67 -0.68  0.74  0.73 -0.69 -0.71  0.73  0.74]\n",
            " [-0.67 -0.67  0.77  0.77 -0.69 -0.69  0.77  0.74]]\n",
            "\n",
            "[[ 0.  0.  0.  0.  0. -0. -0.  0.]\n",
            " [ 0. -0.  0. -0.  0.  0. -0. -0.]\n",
            " [ 0.  0.  0.  0.  0. -0. -0.  0.]\n",
            " [ 0. -0.  0.  0.  0. -0.  0. -0.]]\n",
            "\n",
            "[[-0.01  0.07  0.01  0.04  0.06 -0.67  0.05 -0.31]\n",
            " [-0.13  0.21 -0.02  0.27  0.18 -0.12  0.19  0.7 ]\n",
            " [-0.14 -0.24 -0.09  0.21  0.15  2.72 -0.02 -1.22]\n",
            " [ 0.16 -0.02  0.04  0.1  -0.12 -2.    0.26 -0.82]]\n",
            "\n",
            "[[-1.16  0.52  0.86  0.38  0.28  0.03 -0.16  0.26]\n",
            " [ 0.29  0.16 -0.16 -0.36 -0.29 -0.32 -0.17  0.12]\n",
            " [-0.29 -0.15 -0.29 -0.08 -0.05 -0.08  0.18 -0.  ]\n",
            " [ 0.36 -0.08 -0.26 -0.02  0.43 -0.12 -0.32  0.34]]\n",
            "\n",
            "[[-1.29  1.28  1.22 -1.19  1.25 -1.22 -1.21  1.1 ]\n",
            " [-0.13  0.07  0.09 -0.    0.    0.02  0.03  0.05]\n",
            " [-0.11  0.08  0.1   0.    0.03 -0.07 -0.01 -0.08]\n",
            " [-0.05  0.04  0.02  0.01 -0.07  0.05 -0.03  0.01]]\n",
            "\n",
            "[[ 0.05 -0.07  0.03 -1.64 -0.05  0.06 -0.06  1.69]\n",
            " [-0.03  0.03  0.06  1.61 -0.12  0.13  0.04 -1.63]\n",
            " [-0.03 -0.   -0.04  1.66  0.08 -0.06  0.08 -1.61]\n",
            " [ 0.03  0.01 -0.   -1.57  0.04  0.   -0.03  1.61]]\n",
            "\n",
            "[[ 0.11  0.23  0.06 -0.15 -0.28  0.01 -0.16  0.19]\n",
            " [-0.2   0.09 -0.02  0.1   1.75 -1.08 -0.89 -0.5 ]\n",
            " [-0.1   0.05  0.02  0.02  0.25 -0.03  0.08  0.08]\n",
            " [ 0.11  0.08 -0.06  0.14 -0.47 -0.26 -0.23  0.35]]\n",
            "\n",
            "[[-0.1  -0.08 -0.    0.07  0.24  0.04  0.08  0.01]\n",
            " [-0.12 -0.04  0.21 -0.09  0.1   0.16  0.25  0.06]\n",
            " [-0.09  0.32  0.11  0.22 -0.   -0.05  0.12 -0.01]\n",
            " [ 0.08 -0.04 -0.03  0.14  0.02  0.18  0.01 -0.06]]\n",
            "\n",
            "[[-0.08 -0.01 -0.13 -0.08 -0.05  0.08  0.01  0.04]\n",
            " [ 1.46 -1.42  0.02  0.08 -1.52  1.57  0.    0.01]\n",
            " [ 0.02 -0.   -0.04 -0.05  0.08  0.02  0.04  0.04]\n",
            " [-1.71  1.78 -0.05  0.12  1.77 -1.74  0.12  0.05]]\n",
            "\n",
            "[[-1.07  1.21  1.16 -1.24 -1.08  1.23  1.17 -1.22]\n",
            " [-0.04  0.09  0.02 -0.04 -0.01  0.07  0.04 -0.01]\n",
            " [ 1.05 -1.25 -1.15  1.24  1.08 -1.26 -1.18  1.25]\n",
            " [-0.06 -0.05 -0.    0.06  0.02 -0.06  0.07  0.04]]\n",
            "\n",
            "[[ 0.59 -0.02 -0.12 -0.96 -0.   -1.11 -0.83  1.23]\n",
            " [-0.09 -0.68 -0.85  0.87 -0.95  0.8   1.36 -2.67]\n",
            " [-0.33 -0.9  -0.92  1.35 -0.74  1.07  1.09 -2.6 ]\n",
            " [-0.93  0.88  1.32 -2.17  1.2  -2.03 -2.82  5.36]]\n",
            "\n",
            "[[-0.11 -0.21  0.05 -0.17  0.07 -0.1   0.03  0.15]\n",
            " [ 0.19 -0.03 -0.01 -0.03 -0.11  0.04  0.01  0.06]\n",
            " [-0.31  0.15  1.75 -0.17 -0.06  0.13 -1.93 -0.17]\n",
            " [-0.16  0.04 -1.26  0.1   0.49 -0.03 -1.52 -0.01]]\n",
            "\n",
            "[[ 1.18 -1.16 -0.   -0.01 -1.16  1.2  -0.01  0.01]\n",
            " [-1.16  1.17 -0.   -0.01  1.17 -1.16 -0.01 -0.01]\n",
            " [ 0.34 -0.33 -0.01 -0.01 -0.35  0.37  0.01  0.01]\n",
            " [-0.32  0.34 -0.01 -0.01  0.36 -0.35 -0.   -0.  ]]\n",
            "\n",
            "[[ 0.6  -0.72  0.61 -0.72  0.62 -0.74  0.6  -0.72]\n",
            " [-0.63  0.75 -0.61  0.75 -0.62  0.73 -0.62  0.72]\n",
            " [ 0.64 -0.73  0.62 -0.74  0.62 -0.73  0.61 -0.73]\n",
            " [-0.62  0.74 -0.62  0.73 -0.64  0.73 -0.64  0.74]]\n",
            "\n",
            "[[0. 0. 0. 0. 0. 0. 0. 0.]\n",
            " [0. 0. 0. 0. 0. 0. 0. 0.]\n",
            " [0. 0. 0. 0. 0. 0. 0. 0.]\n",
            " [0. 0. 0. 0. 0. 0. 0. 0.]]\n",
            "\n",
            "[[ 0. -0. -0.  0.  0. -0.  0. -0.]\n",
            " [ 0.  0. -0. -0. -0. -0.  0.  0.]\n",
            " [-0. -0. -0. -0.  0.  0. -0.  0.]\n",
            " [-0. -0.  0.  0.  0. -0.  0. -0.]]\n",
            "\n",
            "[[-0.03 -0.02 -0.01  0.01  0.04  0.01  0.01 -0.  ]\n",
            " [-0.03 -0.02  0.04 -0.02  0.02  0.03  0.04  0.01]\n",
            " [-0.02  0.06  0.02  0.04 -0.   -0.01  0.02 -0.01]\n",
            " [ 0.01 -0.01 -0.01  0.02  0.    0.03 -0.   -0.02]]\n",
            "\n",
            "[[ 1.07 -1.1  -1.11  1.15  0.   -0.04 -0.    0.04]\n",
            " [-0.91  0.97  1.04 -1.09  0.03 -0.02 -0.   -0.01]\n",
            " [ 1.09 -1.1  -1.17  1.12  0.01 -0.01  0.    0.04]\n",
            " [-0.96  0.95  1.04 -1.14  0.06 -0.02 -0.   -0.02]]\n",
            "\n",
            "[[-0.03 -0.03 -0.   -0.02  0.01 -0.    0.02  0.03]\n",
            " [ 0.94  0.94  0.95  0.93 -0.73 -0.72 -0.7  -0.72]\n",
            " [ 0.03  0.01 -0.   -0.    0.01 -0.01  0.   -0.01]\n",
            " [-0.92 -0.92 -0.92 -0.91  0.76  0.74  0.75  0.73]]\n",
            "\n",
            "[[ 0.02  1.44 -0.03  0.13  0.03 -1.43 -0.06 -0.06]\n",
            " [-0.13 -1.39 -0.05  0.06  0.1   1.42  0.06  0.02]\n",
            " [ 0.05 -1.38  0.   -0.11 -0.1   1.42 -0.02  0.07]\n",
            " [-0.03  1.53 -0.02 -0.01  0.08 -1.48  0.02  0.08]]\n",
            "\n",
            "[[-0.01 -0.02  0.02 -0.    0.13 -1.25 -0.11  1.33]\n",
            " [-0.01  0.05  0.03  0.    0.13  1.68 -0.06 -1.66]\n",
            " [ 0.07 -0.01 -0.07 -0.01 -0.17  1.28  0.16 -1.3 ]\n",
            " [-0.03  0.04  0.05  0.06 -0.03 -1.63  0.06  1.68]]\n",
            "\n",
            "[[-0.17 -0.2  -0.18 -0.17  0.15  0.14  0.13  0.15]\n",
            " [ 0.17  0.17  0.16  0.19 -0.13 -0.13 -0.16 -0.13]\n",
            " [-1.05 -1.03 -1.04 -1.05  1.    0.99  1.04  1.04]\n",
            " [ 1.05  1.06  1.06  1.02 -1.03 -1.03 -1.01 -1.01]]\n",
            "\n",
            "[[-0.  0.  0. -0. -0.  0. -0.  0.]\n",
            " [ 0. -0. -0.  0.  0. -0. -0.  0.]\n",
            " [-0. -0. -0.  0. -0.  0. -0.  0.]\n",
            " [-0. -0. -0.  0. -0.  0. -0.  0.]]\n",
            "\n",
            "[[-0.11  0.09  0.12  0.02  0.18  0.11 -0.08  0.15]\n",
            " [ 0.04 -0.75  0.02 -1.    0.12 -0.75 -0.07  1.47]\n",
            " [ 0.05  0.17 -0.1   0.02  0.   -0.17 -0.08  0.12]\n",
            " [ 0.13  0.62  0.07 -0.02  0.13 -0.44 -0.05 -0.57]]\n",
            "\n",
            "[[-0.05  0.04 -0.05  0.03  1.12 -1.11  1.21 -1.18]\n",
            " [-0.06  0.04 -0.02 -0.01 -1.07  1.04 -1.11  1.16]\n",
            " [-0.04 -0.03 -0.02 -0.02 -1.12  1.17 -1.23  1.2 ]\n",
            " [-0.02  0.01  0.03 -0.04  1.12 -1.1   1.18 -1.12]]\n",
            "\n",
            "[[ 0.    0.02 -0.19 -0.07 -0.07 -0.15  0.83  0.98]\n",
            " [-0.05 -0.1  -0.02 -0.04 -0.07 -0.12 -0.86 -1.03]\n",
            " [-0.01 -0.06  0.07 -0.04 -0.05  0.04 -1.03 -1.22]\n",
            " [ 0.03  0.06  0.01 -0.06 -0.05 -0.    0.86  0.76]]\n",
            "\n",
            "[[-0.53  0.01  0.05  0.05  0.01  0.    0.   -0.02]\n",
            " [ 0.52 -0.02 -0.01 -0.04  0.    0.02  0.04  0.02]\n",
            " [-0.54  0.07  0.    0.01  0.01  0.    0.02 -0.  ]\n",
            " [ 0.52 -0.05 -0.   -0.    0.03 -0.03 -0.03  0.03]]\n",
            "\n",
            "[[-0.37 -0.46 -0.32 -0.49 -0.4  -0.37 -0.33 -0.39]\n",
            " [-0.51 -0.31 -0.38 -0.34 -0.35 -0.48 -0.42 -0.21]\n",
            " [-0.38 -0.17 -0.12 -0.5  -0.29 -0.31 -0.36 -0.09]\n",
            " [-0.26 -0.22 -0.32 -0.22 -0.18 -0.24 -0.27  0.14]]\n",
            "\n",
            "[[ 0.6  -0.62 -0.24  0.56 -0.34  0.45  0.34 -0.18]\n",
            " [-0.4   0.71  0.58 -0.69  0.51 -0.59 -0.42  0.18]\n",
            " [-0.19  0.29  0.43 -0.61  0.29 -0.4  -0.54  0.26]\n",
            " [ 0.24 -0.26 -0.93  0.22 -0.65  0.15  0.81 -1.58]]\n",
            "\n",
            "[[ 0.09 -0.29  0.74 -0.28  0.05 -0.09  0.83 -0.58]\n",
            " [-0.1  -0.11 -0.97  0.14 -0.16  0.02 -0.94  0.25]\n",
            " [-0.1   0.04 -0.33 -0.02 -0.22 -0.09 -0.33 -0.01]\n",
            " [ 0.19 -0.19  0.17  0.07  0.03  0.01  0.2  -0.23]]\n",
            "\n",
            "[[-0.91  0.04 -0.06  0.35 -0.07  0.39 -0.01 -1.52]\n",
            " [ 0.14 -0.04  0.18 -0.79  0.24 -0.8  -1.48  2.66]\n",
            " [-0.16  0.59  0.2  -1.74  0.1  -1.67 -1.22  2.98]\n",
            " [ 0.26 -1.25 -1.35  2.49 -1.43  2.41  2.94 -6.86]]\n",
            "\n",
            "[[ 0.08  0.    0.03 -0.   -0.01 -0.03  0.01  0.06]\n",
            " [ 0.    0.01  0.03  0.01 -0.03 -0.    0.01  0.08]\n",
            " [-0.01  0.13 -1.93  1.92  0.06 -0.01  1.98 -1.91]\n",
            " [ 0.06  0.01  2.31 -2.28 -0.02  0.05 -2.21  2.2 ]]\n",
            "\n",
            "[[-0.85  0.83 -0.01  0.01 -0.85  0.82 -0.03 -0.01]\n",
            " [ 0.88 -0.86 -0.01  0.01  0.87 -0.87 -0.04 -0.03]\n",
            " [ 1.   -0.98  0.01 -0.01  0.98 -0.99 -0.   -0.01]\n",
            " [-0.98  0.96 -0.01  0.01 -0.97  0.97 -0.03 -0.01]]\n",
            "\n",
            "[[-0.02 -0.02 -0.01  0.    1.34  1.35 -0.03 -0.03]\n",
            " [-0.02  0.01  0.03  0.02 -1.76 -1.76  0.03  0.01]\n",
            " [-0.    0.03  0.    0.02 -1.33 -1.3   0.03  0.04]\n",
            " [-0.01 -0.02 -0.02  0.    1.75  1.75  0.03  0.02]]\n",
            "\n",
            "[[ 0.04  0.03 -0.02  0.02  0.02 -0.01  0.02 -0.  ]\n",
            " [ 0.02 -0.05 -1.59  1.62  0.05  0.03  2.11 -2.1 ]\n",
            " [ 0.    0.03  0.03 -0.04 -0.01 -0.03 -0.01  0.07]\n",
            " [-0.01  0.    1.64 -1.62 -0.04  0.03 -2.15  2.11]]\n",
            "\n",
            "[[ 0.  0.  0.  0. -0. -0. -0. -0.]\n",
            " [ 0. -0.  0.  0. -0. -0.  0.  0.]\n",
            " [ 0.  0.  0. -0. -0.  0. -0.  0.]\n",
            " [ 0. -0. -0.  0. -0. -0. -0. -0.]]\n",
            "\n",
            "[[-0.04 -0.02  1.16  1.14 -0.04 -0.04  1.15  1.14]\n",
            " [ 0.07  0.06 -1.11 -1.12  0.06  0.03 -1.16 -1.14]\n",
            " [ 0.02  0.01 -0.86 -0.82  0.01 -0.   -0.86 -0.84]\n",
            " [-0.03 -0.03  0.86  0.81 -0.01 -0.04  0.85  0.86]]\n",
            "\n",
            "[[ 0.   -0.   -1.73  1.73  0.01 -0.02 -0.18  0.12]\n",
            " [ 0.03 -0.01  1.73 -1.73  0.01 -0.    0.2  -0.16]\n",
            " [ 0.01  0.01  1.74 -1.73 -0.01 -0.02  0.15 -0.18]\n",
            " [-0.    0.02 -1.77  1.74  0.02 -0.   -0.19  0.15]]\n",
            "\n",
            "[[-0.16 -0.06 -0.02  0.04  0.16 -0.05  0.06  0.09]\n",
            " [-0.19 -0.05 -0.    0.05  0.16  0.05  0.12  0.02]\n",
            " [ 0.15  0.05 -0.04  0.08 -0.25 -0.09 -0.07 -0.04]\n",
            " [ 0.17  0.04  0.    0.05 -0.29 -0.1  -0.09 -0.11]]\n",
            "\n",
            "[[ 0.06 -0.95 -0.58  2.62  0.05  0.19  0.21 -0.89]\n",
            " [ 0.27 -0.18 -0.18 -1.34 -0.39  0.39  0.29 -0.29]\n",
            " [-0.14  0.06  0.18 -0.7  -0.05 -0.03  0.24 -0.11]\n",
            " [-0.05  0.28  0.24 -0.01 -0.03  0.05 -0.04  0.1 ]]\n",
            "\n",
            "[[-0.04  0.2  -0.17 -0.11 -0.08 -0.17  0.03  0.08]\n",
            " [ 0.13 -1.75 -0.09  1.69 -0.2   1.81 -0.   -1.94]\n",
            " [-0.04 -0.13  0.05  0.05  0.08 -0.02 -0.16 -0.03]\n",
            " [-0.13  1.86 -0.08 -1.9  -0.09 -1.81  0.02 -2.24]]\n",
            "\n",
            "[[-0.14 -0.11  0.01  0.09  0.34  0.06  0.12  0.02]\n",
            " [-0.16 -0.06  0.3  -0.13  0.15  0.22  0.36  0.09]\n",
            " [-0.12  0.44  0.18  0.32 -0.   -0.07  0.19 -0.01]\n",
            " [ 0.14 -0.04 -0.03  0.22  0.04  0.26  0.03 -0.08]]\n",
            "\n",
            "[[ 0.08 -0.13 -0.04  0.06  0.26  0.   -0.09  0.13]\n",
            " [-0.21  0.03  0.36 -0.15 -0.06  0.05  0.13 -0.05]\n",
            " [-0.27  0.28  0.13  0.07 -0.04 -0.16  0.27 -0.15]\n",
            " [ 0.3  -0.29 -0.28  0.22 -0.02  0.32 -0.13  0.06]]\n",
            "\n",
            "[[ 0.03  0.1  -0.06 -0.54 -0.01 -0.09 -0.08 -0.47]\n",
            " [ 0.01 -0.02  0.07 -0.65 -0.07 -0.03  0.03 -0.38]\n",
            " [-0.08  0.08  0.07 -0.14  0.01  0.05  0.15  0.07]\n",
            " [-0.12 -0.01  0.02 -0.28 -0.1   0.11  0.02 -0.05]]\n",
            "\n",
            "[[-0.21  0.17 -0.07  0.16  0.41 -0.15 -0.2   0.37]\n",
            " [-0.04 -0.1   0.41  0.07 -0.08  0.32  0.4  -0.58]\n",
            " [-0.19  0.52  0.44 -0.23  0.25 -0.28  0.05  0.1 ]\n",
            " [ 0.48 -0.51 -0.5   0.52 -0.44  0.71  0.25 -0.23]]\n",
            "\n",
            "[[-0.98  0.57  0.95 -0.58 -0.97  0.59  0.96 -0.55]\n",
            " [ 0.97 -0.59 -0.99  0.56  0.97 -0.58 -0.98  0.57]\n",
            " [ 0.03 -0.    0.01  0.   -0.    0.02  0.01  0.02]\n",
            " [ 0.    0.01  0.    0.   -0.01  0.01 -0.01 -0.  ]]\n",
            "\n",
            "[[ 0.08  0.05  0.04  0.12  0.   -0.03 -0.02 -0.01]\n",
            " [-0.08 -0.03 -0.01 -0.   -0.02  0.06  0.04  0.04]\n",
            " [ 0.03 -1.68  0.01  1.85 -0.06  1.73 -0.02 -1.81]\n",
            " [-0.05  1.75 -0.02 -1.82  0.09 -1.72  0.05  1.84]]\n",
            "\n",
            "[[ 0.57 -0.57 -0.58  0.63 -0.63  0.6   0.63 -0.64]\n",
            " [ 0.03  0.02 -0.01 -0.05  0.03  0.04 -0.05 -0.07]\n",
            " [-0.63  0.65  0.63 -0.62  0.61 -0.63 -0.63  0.62]\n",
            " [ 0.06  0.04 -0.03 -0.07  0.02 -0.   -0.08 -0.09]]\n",
            "\n",
            "[[-0.05 -0.13 -0.14  0.4   0.27 -0.17  0.03 -0.27]\n",
            " [-0.16 -0.17  0.12  0.4  -0.3   0.24  0.09 -0.19]\n",
            " [-0.05  0.22  0.08  0.8  -0.14 -0.1   0.04 -0.18]\n",
            " [ 0.14  0.12  0.36  1.    0.04  0.2  -0.26 -0.76]]\n",
            "\n",
            "[[ 0.16 -0.8  -0.08  0.55 -0.13  0.41 -0.27 -0.51]\n",
            " [ 0.15  0.53 -0.6  -0.49 -0.67 -0.35  0.51 -0.31]\n",
            " [-0.24  0.81 -0.13 -1.05 -0.19 -0.93 -0.08  0.51]\n",
            " [-0.34 -0.83  0.18  0.24  0.53 -0.08 -1.15 -1.52]]\n",
            "\n",
            "[[-0.2  -0.09 -0.01  0.03  0.22  0.08  0.04 -0.  ]\n",
            " [-0.07  0.14  0.05  0.05 -0.07 -0.06  0.07  0.1 ]\n",
            " [ 1.02  1.11 -0.09  0.12 -0.97 -0.98  0.03  0.07]\n",
            " [-0.12 -0.23  0.02  0.11  0.2   0.14 -0.08 -0.02]]\n",
            "\n",
            "[[ 0.26 -0.29  1.51 -1.5  -0.29  0.28 -1.49  1.51]\n",
            " [ 0.02 -0.    0.03  0.02 -0.01  0.01  0.   -0.01]\n",
            " [ 0.28 -0.29  1.53 -1.51 -0.29  0.3  -1.51  1.55]\n",
            " [ 0.   -0.01  0.02 -0.   -0.02 -0.01 -0.    0.02]]\n",
            "\n",
            "[[ 0.01 -0.01 -0.02  0.    0.01  0.01 -0.   -0.01]\n",
            " [ 1.21 -0.81 -1.17  0.82 -1.15  0.83  1.18 -0.82]\n",
            " [ 0.01  0.    0.01  0.01  0.02  0.    0.    0.02]\n",
            " [ 1.18 -0.83 -1.18  0.83 -1.16  0.84  1.16 -0.83]]\n",
            "\n",
            "[[-0.11 -0.09 -0.    0.07  0.28  0.05  0.1   0.02]\n",
            " [-0.13 -0.05  0.24 -0.11  0.13  0.18  0.3   0.07]\n",
            " [-0.11  0.36  0.13  0.25  0.01 -0.06  0.15 -0.01]\n",
            " [ 0.1  -0.04 -0.03  0.17  0.03  0.21  0.02 -0.07]]\n",
            "\n",
            "[[-0.01  0.02  0.77  0.78  0.01 -0.02 -0.82 -0.81]\n",
            " [-0.04 -0.03 -0.79 -0.79  0.02  0.02  0.86  0.85]\n",
            " [ 0.01  0.02 -0.72 -0.71 -0.02 -0.    0.8   0.74]\n",
            " [ 0.01 -0.04  0.74  0.67  0.   -0.01 -0.78 -0.75]]\n",
            "\n",
            "[[-0.18 -0.12 -0.01  0.12  0.43  0.09  0.14  0.03]\n",
            " [-0.19 -0.05  0.37 -0.15  0.2   0.3   0.45  0.13]\n",
            " [-0.17  0.58  0.2   0.41 -0.   -0.07  0.22 -0.01]\n",
            " [ 0.19 -0.02 -0.06  0.29  0.05  0.35  0.03 -0.07]]\n",
            "\n",
            "[[ 0.03 -0.11 -0.13  0.13 -0.03 -0.03  0.02  0.07]\n",
            " [ 1.56 -1.6  -1.61  1.65  0.09 -0.   -0.15 -0.  ]\n",
            " [ 0.12 -0.09  0.02 -0.09 -0.01  0.1   0.01  0.1 ]\n",
            " [-1.43  1.42  1.61 -1.62 -0.08 -0.02  0.    0.04]]\n",
            "\n",
            "[[-0.04 -0.1  -0.15 -0.12 -0.01 -0.07 -0.15  0.03]\n",
            " [ 0.15 -0.12  0.17 -0.12  0.09  0.05  0.19  0.16]\n",
            " [-0.15  0.26  0.1  -0.2  -0.2  -0.37 -0.12  0.02]\n",
            " [-0.05 -0.15  0.16  0.09  0.03  0.03  0.21 -0.42]]\n",
            "\n",
            "[[-0.07 -1.55  0.02  1.51 -0.01 -0.01  0.04 -0.01]\n",
            " [ 0.29  1.8  -0.22 -1.84  0.03  0.03  0.    0.02]\n",
            " [ 0.07  1.57 -0.04 -1.51 -0.02 -0.01 -0.   -0.02]\n",
            " [-0.29 -1.82  0.24  1.82 -0.04 -0.01  0.    0.02]]\n",
            "\n",
            "[[ 0.97 -0.   -1.25 -0.01 -0.97 -0.01  1.27  0.04]\n",
            " [ 0.96 -0.03 -1.24  0.   -0.96 -0.    1.28  0.04]\n",
            " [-0.96  0.01  1.24  0.01  0.96  0.02 -1.27 -0.  ]\n",
            " [-0.93 -0.02  1.24 -0.01  0.97 -0.01 -1.26 -0.  ]]\n",
            "\n",
            "[[-0.07 -0.05 -0.01  0.04  0.13  0.02  0.04  0.01]\n",
            " [-0.08 -0.03  0.12 -0.06  0.06  0.09  0.14  0.03]\n",
            " [-0.06  0.18  0.06  0.13 -0.   -0.03  0.07 -0.01]\n",
            " [ 0.04 -0.02 -0.02  0.08  0.01  0.1   0.   -0.04]]\n",
            "\n",
            "[[-0.04 -0.03 -0.01  0.02  0.07  0.01  0.02  0.  ]\n",
            " [-0.05 -0.02  0.06 -0.04  0.03  0.05  0.08  0.02]\n",
            " [-0.03  0.1   0.03  0.07 -0.   -0.02  0.04 -0.01]\n",
            " [ 0.01 -0.02 -0.01  0.04  0.    0.05 -0.   -0.03]]\n",
            "\n",
            "[[-0.03 -0.1  -0.15  0.06 -0.24  0.22  0.05 -0.49]\n",
            " [ 0.08  0.12  0.23  1.55  0.01 -0.47 -0.2   1.29]\n",
            " [ 0.08 -0.07 -0.06  0.24  0.13 -0.21  0.01 -0.01]\n",
            " [-0.14  0.23 -0.08 -2.76 -0.16  0.15  0.14  2.12]]\n",
            "\n",
            "[[-0.02  0.01  0.02 -0.01  0.01 -0.    0.   -0.02]\n",
            " [-0.12  0.13  0.13 -0.12 -0.12  0.14  0.11 -0.12]\n",
            " [-0.   -0.    0.01  0.01  0.01  0.   -0.01  0.01]\n",
            " [-1.26  1.25  1.26 -1.26 -1.26  1.25  1.26 -1.24]]\n",
            "\n",
            "[[-0.1  -0.02 -0.01  0.1   0.11 -0.08 -0.05 -0.03]\n",
            " [ 0.03 -0.07 -0.08 -0.03  2.03 -2.09 -2.04  2.03]\n",
            " [ 0.04  0.01  0.03  0.04 -0.01  0.03  0.01 -0.03]\n",
            " [-0.02 -0.08  0.03 -0.06 -1.96  1.96  1.93 -2.03]]\n",
            "\n",
            "[[ 0.32 -0.36  0.05  0.65 -0.08  0.06 -0.12 -0.36]\n",
            " [-0.12 -0.18 -0.09 -0.29 -0.12  0.13  0.05  0.39]\n",
            " [-0.26  0.65  0.33 -2.34  0.11 -0.11 -0.02  1.74]\n",
            " [-0.06 -0.07  0.15  2.01  0.05  0.12 -0.48  0.75]]\n",
            "\n",
            "[[ 0.02  0.03 -0.02  0.02 -0.01  0.01 -0.06 -0.03]\n",
            " [ 0.01  0.    0.   -0.02  0.05  0.06  0.06  0.05]\n",
            " [ 0.02  0.01 -0.01  0.02 -1.4  -1.39  1.11  1.07]\n",
            " [ 0.02  0.02 -0.01 -0.    1.44  1.44 -1.12 -1.09]]\n",
            "\n",
            "[[ 0.16 -0.18 -0.07  0.12 -0.08  0.08 -0.12 -0.07]\n",
            " [-0.14 -0.04  0.36 -0.03  0.01 -0.1  -0.07 -0.04]\n",
            " [-0.11  0.06  0.35 -0.19 -0.24 -0.05  0.36 -0.29]\n",
            " [ 0.19 -0.08 -2.27  1.34 -0.2   0.08  1.74  1.26]]\n",
            "\n",
            "[[ 0.46 -0.35  0.17 -0.02  0.02 -0.38 -1.02  0.86]\n",
            " [-1.13  1.06  0.47 -0.07  0.33 -0.49  0.21 -0.43]\n",
            " [ 0.3  -0.02  0.   -0.53  0.18 -0.25 -0.   -0.06]\n",
            " [ 0.24 -0.28 -0.14  0.08  0.03 -0.19  0.03 -0.32]]\n",
            "\n",
            "[[-0.29  0.71 -0.33 -0.45  0.65 -1.19 -0.23  0.33]\n",
            " [-0.06 -0.75  0.61 -0.6  -0.76  1.03 -0.92  0.05]\n",
            " [ 0.16 -0.77 -0.16  0.05 -0.57  0.6  -0.26 -0.28]\n",
            " [-0.09  0.2  -0.84  0.47 -0.04 -0.66  0.85 -0.85]]\n",
            "\n",
            "[[-0.64  0.71 -0.64  0.69 -0.64  0.68 -0.65  0.69]\n",
            " [-0.64  0.69 -0.64  0.68 -0.64  0.7  -0.63  0.72]\n",
            " [ 0.65 -0.68  0.63 -0.7   0.66 -0.69  0.65 -0.69]\n",
            " [ 0.63 -0.69  0.61 -0.72  0.63 -0.69  0.63 -0.69]]\n",
            "\n",
            "[[ 0.18 -0.15 -0.56  0.23  0.17 -0.06  0.23 -0.13]\n",
            " [-0.24  0.27  0.4   0.2  -0.31 -0.17 -0.06 -0.18]\n",
            " [-0.14  0.13  0.47  0.07 -0.21 -0.14 -0.09  0.07]\n",
            " [-0.87 -0.32 -0.05  0.21  1.12 -0.15 -0.24 -0.31]]\n",
            "\n",
            "[[-0.3  -0.03 -0.26 -0.03  0.08  0.01  0.13  0.  ]\n",
            " [-0.02  0.1   0.2  -0.05 -0.17 -0.02 -0.06 -0.09]\n",
            " [ 1.24 -0.05  1.21 -0.14 -0.58 -0.12  0.21 -0.12]\n",
            " [ 1.85  0.01 -1.86  0.    0.05 -0.13  0.14  0.09]]\n",
            "\n",
            "[[-0.03  0.01 -0.01 -0.01 -0.02  0.   -0.02 -0.02]\n",
            " [-0.01  0.    0.01 -0.02  0.01 -0.02 -0.01 -0.02]\n",
            " [-0.83 -0.8   0.85  0.87  1.12  1.09 -1.09 -1.12]\n",
            " [-0.83 -0.82  0.83  0.84  1.11  1.1  -1.1  -1.1 ]]\n",
            "\n",
            "[[ 0.02 -0.03 -0.    0.03 -0.03  1.26  0.03 -1.24]\n",
            " [-0.05  0.01 -0.02  0.01 -0.03 -1.69  0.05  1.71]\n",
            " [-0.03  0.02 -0.   -0.01 -0.08  1.26  0.03 -1.28]\n",
            " [-0.01 -0.05 -0.01  0.05 -0.03 -1.67  0.04  1.65]]\n",
            "\n",
            "[[ 0.03  1.19 -0.01 -1.22 -0.05 -1.24  0.02  1.29]\n",
            " [-0.06  0.01 -0.06  0.02  0.05  0.06  0.06  0.06]\n",
            " [ 0.07 -1.28  0.04  1.3   0.04  1.36 -0.05 -1.24]\n",
            " [-0.02 -0.08 -0.05  0.05  0.09  0.11  0.1   0.06]]\n",
            "\n",
            "[[-0.52  0.06  0.44 -0.83 -0.28  0.25 -0.28 -0.38]\n",
            " [-0.43  0.06 -0.29 -0.14  0.36 -1.2  -0.34  0.61]\n",
            " [ 0.59 -0.83 -1.13  0.92 -0.38 -0.24  0.15 -0.3 ]\n",
            " [-0.32  0.1  -0.2  -0.5  -0.71  0.87  0.16 -1.01]]\n",
            "\n",
            "[[ 0.02  1.52 -0.   -1.5  -0.05 -1.52  0.03  1.57]\n",
            " [ 0.03  1.54 -0.   -1.57 -0.06 -1.54  0.01  1.65]\n",
            " [ 0.   -0.22 -0.01  0.21 -0.    0.25 -0.02 -0.18]\n",
            " [ 0.02 -0.28  0.    0.24 -0.02  0.31 -0.01 -0.15]]\n",
            "\n",
            "[[ 0.34 -0.01 -0.31  0.4   0.07 -0.13  0.2  -0.44]\n",
            " [-0.36 -0.    0.65  0.07 -0.25  0.07  0.25 -0.16]\n",
            " [-0.26  0.23 -2.26  0.07 -0.    0.21  0.54 -0.2 ]\n",
            " [ 0.91 -0.08 -1.09 -0.06  0.12  0.05 -0.68  0.06]]\n",
            "\n",
            "[[ 0.02 -0.01  0.03  0.03  0.01 -0.03  0.01  0.02]\n",
            " [ 0.73 -1.19  0.75 -1.19 -0.74  1.2  -0.74  1.22]\n",
            " [ 0.02  0.02  0.01  0.02  0.   -0.02  0.01  0.02]\n",
            " [ 0.74 -1.23  0.73 -1.22 -0.79  1.21 -0.77  1.21]]\n",
            "\n",
            "[[ 0.03  0.05 -0.13  0.06 -1.78  0.82  0.38 -0.1 ]\n",
            " [-0.25 -0.31  0.01  0.22  0.58  0.25  0.14 -0.18]\n",
            " [-0.13 -0.22  0.05  0.19  0.66  0.42 -0.09 -0.23]\n",
            " [ 0.07  0.08 -0.    0.09 -0.29 -0.08 -0.22 -0.18]]\n",
            "\n",
            "[[-0.06 -0.02 -0.13  0.14  0.03 -0.13 -0.13 -0.04]\n",
            " [ 0.02 -0.03  0.09 -0.25 -0.04  0.08 -0.02 -0.09]\n",
            " [-0.01  0.05 -0.03 -0.17  0.05 -0.07  0.08 -0.15]\n",
            " [-0.04 -0.93  0.03  0.94 -0.09 -0.88 -0.28  0.77]]\n",
            "\n",
            "[[ 0.   -0.62  0.   -0.63  0.02 -0.61  0.   -0.61]\n",
            " [-0.01  0.81 -0.02  0.81 -0.03  0.84 -0.01  0.85]\n",
            " [ 0.01  0.63 -0.02  0.6   0.01  0.63  0.    0.64]\n",
            " [ 0.01 -0.86  0.01 -0.87  0.01 -0.84  0.02 -0.84]]\n",
            "\n",
            "[[ 0.97  0.98 -1.   -0.99 -0.01  0.01  0.01  0.  ]\n",
            " [-0.83 -0.84  0.84  0.84 -0.    0.01 -0.    0.01]\n",
            " [ 0.97  0.98 -0.99 -0.99 -0.01  0.    0.01  0.01]\n",
            " [-0.82 -0.84  0.83  0.83 -0.01 -0.01  0.    0.01]]\n",
            "\n",
            "[[ 0.07 -0.64  0.11  0.28 -0.51  2.38  0.21 -1.08]\n",
            " [ 0.11  0.05 -0.43  0.24 -0.05 -1.34  0.18 -0.22]\n",
            " [ 0.21  0.13 -0.13 -0.07 -0.11 -0.99  0.01 -0.32]\n",
            " [-0.22  0.2   0.25  0.2   0.24 -0.09  0.16  0.27]]\n",
            "\n",
            "[[ 0.01 -0.02 -0.03 -0.01  0.    0.01  0.02  0.01]\n",
            " [ 0.04 -0.02 -0.02 -0.04  0.02 -0.01  0.01 -0.  ]\n",
            " [ 1.12 -1.1  -1.1   1.15 -0.88  0.89  0.91 -0.91]\n",
            " [ 1.11 -1.1  -1.12  1.13 -0.88  0.93  0.91 -0.89]]\n",
            "\n",
            "[[-0.07  0.05  0.05  0.    0.07 -0.02 -0.05 -0.07]\n",
            " [-0.02  0.02 -0.02 -0.02 -0.04 -0.   -0.03  0.03]\n",
            " [-0.36  0.3   0.02  0.08  1.71 -1.73 -1.82  1.71]\n",
            " [ 0.3  -0.35  0.01 -0.1  -1.71  1.73  1.74 -1.72]]\n",
            "\n"
          ]
        },
        {
          "output_type": "execute_result",
          "data": {
            "application/vnd.google.colaboratory.intrinsic+json": {
              "type": "string"
            },
            "text/plain": [
              "'   Input bit leyend\\n      ____________________________________________________________\\n      |              1             |||              0            |<--b2\\n      |-------------++-------------+++------+------++------+-----|\\n      |      1      ||      0      |||      1      ||      0     |<--b1\\n______|-------------++-------------+++------+------++------+-----|\\n|b4|b5|   1  |   0  ||  1   |   0  |||   1  |   0  ||  1   |  0  |<--b0\\n|--+--+------+------++-------------+++-------------++------+-----|\\n|1 |  |-0.04 | 0.05 || 0.04 |-0.03 |||-1.16 | 1.17 || 1.15 |-1.14|\\n|--+ 1+------+------++-------------+++-------------++------+-----|\\n|0 |  |-0.09 | 0.07 || 0.07 |-0.1  ||| 1.03 |-0.99 ||-1.04 | 1.01|\\n|--+--+------+------++-------------+++-------------++------+-----|\\n|--+--+------+------++-------------+++-------------++------+-----|\\n|1 |  |-0.   | 0.04 || 0.   |-0.03 ||| 0.   | 0.03 || 0.03 |-0.01|\\n|--+ 0+------+------++-------------+++-------------++------+-----|\\n|0 |  |-0.01 |-0.   || 0.02 | 0.02 ||| 0.   |-0.01 ||-0.01 |-0.03|\\n|----------------------------------------------------------------|\\n\\nOutput\\n[[-0.04  0.05  0.04 -0.03 -1.16  1.17  1.15 -1.14]\\n [-0.09  0.07  0.07 -0.1   1.03 -0.99 -1.04  1.01]\\n [-0.    0.04  0.   -0.03  0.    0.03  0.03 -0.01]\\n [-0.01 -0.    0.02  0.02  0.   -0.01 -0.01 -0.03]]\\n\\n '"
            ]
          },
          "metadata": {},
          "execution_count": 23
        }
      ]
    }
  ]
}